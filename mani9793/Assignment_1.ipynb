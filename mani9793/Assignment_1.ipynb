{
 "cells": [
  {
   "cell_type": "markdown",
   "metadata": {},
   "source": [
    "# BFS"
   ]
  },
  {
   "cell_type": "code",
   "execution_count": 11,
   "metadata": {},
   "outputs": [
    {
     "name": "stdout",
     "output_type": "stream",
     "text": [
      "enter key : G\n",
      "success\n"
     ]
    },
    {
     "ename": "SystemExit",
     "evalue": "0",
     "output_type": "error",
     "traceback": [
      "An exception has occurred, use %tb to see the full traceback.\n",
      "\u001b[1;31mSystemExit\u001b[0m\u001b[1;31m:\u001b[0m 0\n"
     ]
    }
   ],
   "source": [
    "import sys\n",
    "def bfs():\n",
    "    from queue import Queue\n",
    "\n",
    "    adj_list= {\n",
    "        \"A\":[\"B\",\"D\"],\n",
    "        \"B\":[\"C\"],\n",
    "        \"C\":[],\n",
    "        \"D\":[\"E\",\"F\"],\n",
    "        \"E\":[\"D\",\"G\"],\n",
    "        \"F\":[\"D\",\"E\"],\n",
    "        \"G\":[\"E\",\"H\"],\n",
    "        \"H\":[\"I\"],\n",
    "        \"I\":[\"J\",\"K\"],\n",
    "        \"J\":[\"K\",\"L\"],\n",
    "        \"K\":[],\n",
    "        \"L\":[\"M\"],\n",
    "        \"M\":[\"N\",\"O\"],\n",
    "        \"N\":[],\n",
    "        \"O\":[\"P\"],\n",
    "        \"P\":[]\n",
    "\n",
    "\n",
    "    }\n",
    "    visited = {} # dictionary\n",
    "    level = {} #empty level dictionary\n",
    "    parent = {}\n",
    "    bfs_traversal_output = []  #for storing order\n",
    "    queue = Queue()\n",
    "\n",
    "    for node in adj_list.keys():\n",
    "        visited[node] = False\n",
    "        parent[node] = None\n",
    "        level[node] = -1\n",
    "\n",
    "    goal = input(\"enter key : \")\n",
    "    s = \"A\"\n",
    "    visited[s] = True\n",
    "    level[s] = 0\n",
    "    queue.put(s)\n",
    "\n",
    "\n",
    "    while not queue.empty():\n",
    "        u = queue.get() #pop first element\n",
    "        if goal == u:\n",
    "            print(\"success\")\n",
    "            print(bfs_traversal_output)\n",
    "            sys.exit(0)\n",
    "\n",
    "        bfs_traversal_output.append(u)\n",
    "\n",
    "        for v in adj_list[u]: #check all adjacent\n",
    "            if not visited[v]:\n",
    "                visited[v] = True\n",
    "                parent[v] = u\n",
    "                level[v] = level[u]+1\n",
    "                queue.put(v)\n",
    "                if goal == v:    \n",
    "                    print(\"success\")\n",
    "                    print(bfs_traversal_output)\n",
    "                    sys.exit(0)\n",
    "    print(\"fail\")\n",
    "    print(bfs_traversal_output)\n",
    "    sys.exit(0)\n",
    "   \n",
    "    #print(visited)\n",
    "    #print(level)\n",
    "    #print(parent)\n",
    "bfs()"
   ]
  },
  {
   "cell_type": "markdown",
   "metadata": {},
   "source": [
    "# DFS"
   ]
  },
  {
   "cell_type": "code",
   "execution_count": 12,
   "metadata": {},
   "outputs": [
    {
     "name": "stdout",
     "output_type": "stream",
     "text": [
      "enter target key : H\n",
      "Success\n"
     ]
    },
    {
     "ename": "SystemExit",
     "evalue": "0",
     "output_type": "error",
     "traceback": [
      "An exception has occurred, use %tb to see the full traceback.\n",
      "\u001b[1;31mSystemExit\u001b[0m\u001b[1;31m:\u001b[0m 0\n"
     ]
    }
   ],
   "source": [
    "import sys\n",
    "#tree creation\n",
    "adj_list= {\n",
    "    \"A\":[\"B\",\"C\"],\n",
    "    \"B\":[\"D\",\"E\"],\n",
    "    \"C\":[\"B\",\"F\"],\n",
    "    \"D\":[\"E\"],\n",
    "    \"E\":[\"F\"],\n",
    "    \"F\":[\"G\"],\n",
    "    \"G\":[\"H\",\"I\"],\n",
    "    \"H\":[\"I\",\"J\"],\n",
    "    \"I\":[\"J\",\"K\"],\n",
    "    \"J\":[\"K\"],\n",
    "    \"K\":[\"L\"],\n",
    "    \"L\":[\"M\"],\n",
    "    \"M\":[\"N\",\"O\"],\n",
    "    \"N\":[\"O\"],\n",
    "    \"O\":[\"P\"],\n",
    "    \"P\":[]\n",
    "    \n",
    "}\n",
    "\n",
    "color = {} #White,Gray,Black\n",
    "#W=unvisited, G=current visiting,  B= visited\n",
    "\n",
    "parent = {}   \n",
    "dfs_traversal_output = []\n",
    "target_key = input(\"enter target key : \")\n",
    "\n",
    "#initialize all as unvisited\n",
    "\n",
    "for node in adj_list.keys():\n",
    "    color[node] = \"W\"\n",
    "    parent[node] = None\n",
    "#algo start\n",
    "\n",
    "def dfs(u): #u=rootnode\n",
    "\n",
    "    color[u] = \"G\"#current\n",
    "\n",
    "    #print(dfs_traversal_output)   \n",
    "    dfs_traversal_output.append(u) \n",
    "      #if parent node is goal key\n",
    "    if target_key == u:\n",
    "            print(\"Success\")\n",
    "            sys.exit(0)  \n",
    "    for v in adj_list[u]:\n",
    "\n",
    "        if color[v]  == \"W\": #if unvisited color=w\n",
    "            parent[v] = u   \n",
    "       \n",
    "            #if  child node is goal key\n",
    "            if target_key == v:\n",
    "                    print(\"Success\")\n",
    "                    sys.exit(0)\n",
    "    \n",
    "            dfs(v)\n",
    "            \n",
    "    color[u] = \"B\" #visited \n",
    "dfs(\"A\") #function call\n",
    "print(\"fail\")"
   ]
  },
  {
   "cell_type": "code",
   "execution_count": 182,
   "metadata": {},
   "outputs": [
    {
     "name": "stdout",
     "output_type": "stream",
     "text": [
      "enter key : H\n",
      "success\n",
      "['A', 'B', 'D', 'C', 'E', 'F']\n"
     ]
    },
    {
     "ename": "SystemExit",
     "evalue": "0",
     "output_type": "error",
     "traceback": [
      "An exception has occurred, use %tb to see the full traceback.\n",
      "\u001b[1;31mSystemExit\u001b[0m\u001b[1;31m:\u001b[0m 0\n"
     ]
    }
   ],
   "source": [
    "import sys\n",
    "def bfs():\n",
    "    from queue import Queue\n",
    "\n",
    "    adj_list= {\n",
    "            \"A\":[\"B\",\"D\"],\n",
    "            \"B\":[\"A\",\"C\"],\n",
    "            \"C\":[\"B\"],\n",
    "            \"D\":[\"A\",\"E\",\"F\"],\n",
    "            \"E\":[\"D\",\"F\",\"G\"],\n",
    "            \"F\":[\"D\",\"E\",\"H\"],\n",
    "            \"G\":[\"E\",\"H\"],\n",
    "            \"H\":[\"I\",\"F\"],\n",
    "            \"I\":[\"J\",\"K\"],\n",
    "            \"J\":[\"K\",\"L\"],\n",
    "            \"K\":[],\n",
    "            \"L\":[\"M\"],\n",
    "            \"M\":[\"N\",\"O\"],\n",
    "            \"N\":[],\n",
    "            \"O\":[\"P\"],\n",
    "            \"P\":[]\n",
    "        }\n",
    "    visited = {} # dictionary\n",
    "    level = {} #empty level dictionary\n",
    "    parent = {}\n",
    "    bfs_traversal_output = []  #for storing order\n",
    "    queue = Queue()\n",
    "\n",
    "    for node in adj_list.keys():\n",
    "        visited[node] = False\n",
    "        parent[node] = None\n",
    "        level[node] = -1\n",
    "\n",
    "    goal = input(\"enter key : \")\n",
    "    s = \"A\"\n",
    "    visited[s] = True\n",
    "    level[s] = 0\n",
    "    queue.put(s)\n",
    "\n",
    "\n",
    "    while not queue.empty():\n",
    "        u = queue.get() #pop first element\n",
    "        \n",
    "\n",
    "        bfs_traversal_output.append(u)\n",
    "        if goal == u:\n",
    "            print(\"success\")\n",
    "            print(bfs_traversal_output)\n",
    "            sys.exit(0)\n",
    "\n",
    "        for v in adj_list[u]: #check all adjacent\n",
    "            if not visited[v]:\n",
    "                visited[v] = True\n",
    "                parent[v] = u\n",
    "                level[v] = level[u]+1\n",
    "                queue.put(v)\n",
    "                if goal == v:    \n",
    "                    print(\"success\")\n",
    "                    print(bfs_traversal_output)\n",
    "                    sys.exit(0)\n",
    "    print(\"fail\")\n",
    "    print(bfs_traversal_output)\n",
    "    sys.exit(0)\n",
    "   \n",
    "    #print(visited)\n",
    "    #print(level)\n",
    "    #print(parent)\n",
    "bfs()"
   ]
  },
  {
   "cell_type": "code",
   "execution_count": null,
   "metadata": {},
   "outputs": [],
   "source": []
  },
  {
   "cell_type": "code",
   "execution_count": null,
   "metadata": {},
   "outputs": [],
   "source": []
  }
 ],
 "metadata": {
  "kernelspec": {
   "display_name": "Python 3",
   "language": "python",
   "name": "python3"
  },
  "language_info": {
   "codemirror_mode": {
    "name": "ipython",
    "version": 3
   },
   "file_extension": ".py",
   "mimetype": "text/x-python",
   "name": "python",
   "nbconvert_exporter": "python",
   "pygments_lexer": "ipython3",
   "version": "3.7.4"
  }
 },
 "nbformat": 4,
 "nbformat_minor": 2
}
