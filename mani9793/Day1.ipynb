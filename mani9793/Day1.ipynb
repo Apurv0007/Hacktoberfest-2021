{
 "cells": [
  {
   "cell_type": "code",
   "execution_count": 1,
   "metadata": {},
   "outputs": [
    {
     "name": "stdout",
     "output_type": "stream",
     "text": [
      "python \"programming\n",
      "python \n",
      "programming\n",
      "python\n",
      "programming\n"
     ]
    }
   ],
   "source": [
    "message =\"python \\\"programming\"\n",
    "print(message)\n",
    "message =\"python \\nprogramming\"\n",
    "print(message)\n",
    "message =\"\"\"python\n",
    "programming\"\"\"\n",
    "print(message)"
   ]
  },
  {
   "cell_type": "code",
   "execution_count": 4,
   "metadata": {},
   "outputs": [
    {
     "name": "stdout",
     "output_type": "stream",
     "text": [
      "Kumari mansi katiyar\n",
      "Kumari mansikatiyar\n",
      "KUMARI MANSI\n",
      "kumari mansi\n",
      "2\n",
      "Ku-ari -ansi\n",
      "True\n",
      "False\n",
      "Kumari Mansi\n",
      "Kumari mansi\n"
     ]
    }
   ],
   "source": [
    "first =\"Kumari mansi\"\n",
    "last=\"katiyar\"\n",
    "full= first+\" \"+ last\n",
    "# print name in small letter\n",
    "print(full)\n",
    "full= f\"{first}{last}\"\n",
    "# removes spaces\n",
    "print(full)\n",
    "# capitalize first letter\n",
    "print(first.upper())\n",
    "# do first strings's first letter lower case\n",
    "print(first.lower())\n",
    "\n",
    "print(first.find(\"m\"))\n",
    "\n",
    "print(first.replace(\"m\",\"-\"))\n",
    "\n",
    "print(\"mansi\" in first)\n",
    "\n",
    "print(\"mansi\" not in first)\n",
    "print(first.title())\n",
    "\n",
    "print(first.strip())\n",
    "\n"
   ]
  },
  {
   "cell_type": "code",
   "execution_count": 2,
   "metadata": {},
   "outputs": [
    {
     "name": "stdout",
     "output_type": "stream",
     "text": [
      "2\n",
      "0b10\n",
      "0x12c\n",
      "(1+2j)\n"
     ]
    }
   ],
   "source": [
    "x=10\n",
    "x=0b10\n",
    "print(x)\n",
    "print(bin(x))\n",
    "x=0x12c\n",
    "print(hex(x))\n",
    "x=1+2j\n",
    "print(x)"
   ]
  },
  {
   "cell_type": "code",
   "execution_count": 6,
   "metadata": {},
   "outputs": [
    {
     "name": "stdout",
     "output_type": "stream",
     "text": [
      "3.3333333333333335\n",
      "3\n",
      "1\n",
      "1000\n",
      "30\n"
     ]
    }
   ],
   "source": [
    "x=10/3\n",
    "print(x)\n",
    "x=10//3\n",
    "print(x)\n",
    "x=10%3\n",
    "print(x)\n",
    "x=10**3\n",
    "print(x)\n",
    "x=10*3\n",
    "print(x)"
   ]
  },
  {
   "cell_type": "code",
   "execution_count": 13,
   "metadata": {},
   "outputs": [
    {
     "name": "stdout",
     "output_type": "stream",
     "text": [
      "3\n",
      "3.14\n",
      "4\n"
     ]
    }
   ],
   "source": [
    "\n",
    "import math\n",
    "PI=3.14\n",
    "print(round(PI))\n",
    "print(abs(PI))\n",
    "print(math.ceil(PI))"
   ]
  },
  {
   "cell_type": "code",
   "execution_count": 15,
   "metadata": {},
   "outputs": [
    {
     "name": "stdout",
     "output_type": "stream",
     "text": [
      "x:5\n",
      "5\n",
      "True\n",
      "5.0\n"
     ]
    }
   ],
   "source": [
    "x=input(\"x:\")\n",
    "print(int(x))\n",
    "print(bool(x))\n",
    "print(float(x))"
   ]
  },
  {
   "cell_type": "markdown",
   "metadata": {},
   "source": []
  },
  {
   "cell_type": "code",
   "execution_count": 22,
   "metadata": {},
   "outputs": [
    {
     "name": "stdout",
     "output_type": "stream",
     "text": [
      "Adult\n",
      "good\n"
     ]
    }
   ],
   "source": [
    "age=22\n",
    "if age>=18 :\n",
    "    print (\"Adult\")\n",
    "if 18<= age <65 :\n",
    "    print (\"good\")\n",
    "    \n",
    "message = \"eligble \" if age >=18 else \"not eligble\"    "
   ]
  },
  {
   "cell_type": "code",
   "execution_count": 26,
   "metadata": {},
   "outputs": [
    {
     "name": "stdout",
     "output_type": "stream",
     "text": [
      "a\n",
      "b\n",
      "range(0, 5)\n",
      "[1, 2, 3]\n",
      "<class 'range'>\n"
     ]
    }
   ],
   "source": [
    "for x in ['a','b']:\n",
    "    print(x)\n",
    "print (range(5))   \n",
    "print([1,2,3])\n",
    "print(type(range(5)))"
   ]
  },
  {
   "cell_type": "code",
   "execution_count": 36,
   "metadata": {},
   "outputs": [],
   "source": [
    "names=[\"CMansi\",\"Shivu\"]\n",
    "\n",
    "for name in names:\n",
    "    if name.startswith(\"M\"):\n",
    "        print(\"Found\")\n",
    "    \n",
    "    break\n",
    "else:\n",
    "         print(\"Not Found\")"
   ]
  },
  {
   "cell_type": "code",
   "execution_count": 37,
   "metadata": {},
   "outputs": [],
   "source": [
    "names=[\"CMansi\",\"Shivu\"]\n",
    "\n",
    "for name in names:\n",
    "    if name.startswith(\"M\"):\n",
    "        print(\"Found\")\n",
    "    \n",
    "    break\n",
    "else:\n",
    "         print(\"Not Found\")"
   ]
  },
  {
   "cell_type": "code",
   "execution_count": 9,
   "metadata": {},
   "outputs": [
    {
     "name": "stdout",
     "output_type": "stream",
     "text": [
      "Guess 45\n",
      "wrong,Try again !\n",
      "Guess 23\n",
      "wrong,Try again !\n",
      "Guess 11\n",
      "wrong,Try again !\n",
      "Guess 43\n",
      "wrong,Try again !\n",
      "Guess 5\n",
      "correct!\n"
     ]
    }
   ],
   "source": [
    "guess=0\n",
    "ans=5\n",
    "while ans != guess :\n",
    "    guess = int(input(\"Guess \"))  \n",
    "    if guess == ans:\n",
    "        print(\"correct!\")\n",
    "    else:\n",
    "        print(\"wrong,Try again !\")\n"
   ]
  },
  {
   "cell_type": "code",
   "execution_count": 42,
   "metadata": {},
   "outputs": [],
   "source": [
    "# function"
   ]
  },
  {
   "cell_type": "code",
   "execution_count": null,
   "metadata": {},
   "outputs": [],
   "source": [
    "def mul(*list)\n",
    "   total =1\n",
    "    for number in list:\n",
    "        total *= number\n",
    "        return total\n",
    "\n",
    "print(mul(2,3,4,5))"
   ]
  },
  {
   "cell_type": "code",
   "execution_count": null,
   "metadata": {
    "scrolled": true
   },
   "outputs": [],
   "source": [
    "def inc(num,by=1):\n",
    "    return (num,num+by)\n",
    "\n",
    "inc(2)\n",
    "inc(2,by=9)"
   ]
  },
  {
   "cell_type": "code",
   "execution_count": null,
   "metadata": {},
   "outputs": [],
   "source": [
    "def mul(*list)\n",
    "   total =1\n",
    "    for number in list:\n",
    "        total *= number\n",
    "        return total\n",
    "\n",
    "print(mul(2,3,4,5))"
   ]
  },
  {
   "cell_type": "code",
   "execution_count": 2,
   "metadata": {},
   "outputs": [
    {
     "data": {
      "text/plain": [
       "<Figure size 640x480 with 1 Axes>"
      ]
     },
     "metadata": {},
     "output_type": "display_data"
    }
   ],
   "source": [
    "\n",
    "import matplotlib.pyplot as plt\n",
    "slices = [45,20,20,15]\n",
    "activities = [\"python\",\"java\",\"C\",\"C++\"]\n",
    "plt.pie(slices,labels=activities)\n",
    "plt.show()\n",
    "\n",
    "\n"
   ]
  },
  {
   "cell_type": "code",
   "execution_count": 29,
   "metadata": {},
   "outputs": [
    {
     "name": "stdout",
     "output_type": "stream",
     "text": [
      "enter name\n",
      "hgfds\n",
      "enter date\n",
      "kjhgfds\n",
      "hello hgfds\n",
      "You are selected! \n",
      "Date kjhgfds\n",
      "Hello hgfds \n",
      "you are selected!\n",
      "Date : kjhgfds \n"
     ]
    }
   ],
   "source": [
    "name = input(\"enter name\\n\")\n",
    "date = input(\"enter date\\n\")\n",
    "\n",
    "print(\"hello \" + name +\"\\nYou are selected! \\nDate \" +date)\n",
    "\n",
    "letter = '''Hello <|Name|> \n",
    "you are selected!\n",
    "Date : <|Date|> '''\n",
    "\n",
    "letter=letter.replace(\"<|Name|>\",name)\n",
    "\n",
    "letter=letter.replace(\"<|Date|>\",date)\n",
    "\n",
    "print(letter)\n"
   ]
  },
  {
   "cell_type": "code",
   "execution_count": null,
   "metadata": {},
   "outputs": [],
   "source": []
  },
  {
   "cell_type": "code",
   "execution_count": null,
   "metadata": {},
   "outputs": [],
   "source": []
  }
 ],
 "metadata": {
  "kernelspec": {
   "display_name": "Python 3",
   "language": "python",
   "name": "python3"
  },
  "language_info": {
   "codemirror_mode": {
    "name": "ipython",
    "version": 3
   },
   "file_extension": ".py",
   "mimetype": "text/x-python",
   "name": "python",
   "nbconvert_exporter": "python",
   "pygments_lexer": "ipython3",
   "version": "3.7.4"
  }
 },
 "nbformat": 4,
 "nbformat_minor": 4
}
